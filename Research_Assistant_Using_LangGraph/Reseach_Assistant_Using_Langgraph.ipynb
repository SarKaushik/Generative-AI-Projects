{
 "cells": [
  {
   "cell_type": "code",
   "execution_count": 2,
   "metadata": {},
   "outputs": [],
   "source": [
    "from langgraph.graph import StateGraph, MessagesState, START, END\n",
    "from langchain_openai import ChatOpenAI\n",
    "from langgraph.prebuilt import ToolNode\n",
    "from langchain_community.tools import TavilySearchResults\n",
    "from IPython.display import Image"
   ]
  },
  {
   "cell_type": "code",
   "execution_count": null,
   "metadata": {},
   "outputs": [],
   "source": [
    "import os\n",
    "os.environ[\"OPENAI_API_KEY\"] = \"My API Key\"\n",
    "\n"
   ]
  },
  {
   "cell_type": "code",
   "execution_count": 5,
   "metadata": {},
   "outputs": [],
   "source": [
    "llm = ChatOpenAI(model='gpt-4o-mini', temperature=0)"
   ]
  },
  {
   "cell_type": "code",
   "execution_count": 4,
   "metadata": {},
   "outputs": [],
   "source": [
    "def should_continue(state: MessagesState) -> bool:\n",
    "    messages = state['messages']\n",
    "    last_message = messages[-1]\n",
    "    if last_message.tool_calls:\n",
    "        return 'tools'\n",
    "    else:\n",
    "        return END\n",
    "\n"
   ]
  },
  {
   "cell_type": "code",
   "execution_count": null,
   "metadata": {},
   "outputs": [],
   "source": [
    "def call_model(state: MessagesState):\n",
    "    messages  = state['messages']\n",
    "    response = llm.invoke(messages)\n",
    "    \n",
    "    return {'messages': messages + [response]}"
   ]
  },
  {
   "cell_type": "code",
   "execution_count": null,
   "metadata": {},
   "outputs": [],
   "source": [
    "\n",
    "## Initializing our lang graph\n",
    "\n",
    "graph = StateGraph(MessagesState)"
   ]
  },
  {
   "cell_type": "code",
   "execution_count": null,
   "metadata": {},
   "outputs": [
    {
     "ename": "NameError",
     "evalue": "name 'graph' is not defined",
     "output_type": "error",
     "traceback": [
      "\u001b[1;31m---------------------------------------------------------------------------\u001b[0m",
      "\u001b[1;31mNameError\u001b[0m                                 Traceback (most recent call last)",
      "Cell \u001b[1;32mIn[5], line 1\u001b[0m\n\u001b[1;32m----> 1\u001b[0m \u001b[43mgraph\u001b[49m\u001b[38;5;241m.\u001b[39madd_node(\u001b[38;5;124m'\u001b[39m\u001b[38;5;124magent\u001b[39m\u001b[38;5;124m'\u001b[39m, call_model)\n",
      "\u001b[1;31mNameError\u001b[0m: name 'graph' is not defined"
     ]
    }
   ],
   "source": [
    "##Adding a node to the langgraph\n",
    "\n",
    "graph.add_node('agent', call_model)"
   ]
  },
  {
   "cell_type": "code",
   "execution_count": null,
   "metadata": {},
   "outputs": [],
   "source": [
    "import os\n",
    "os.environ[\"TAVILY_API_KEY\"] = \"My Api Key\""
   ]
  },
  {
   "cell_type": "code",
   "execution_count": null,
   "metadata": {},
   "outputs": [],
   "source": [
    "# Initializing search tool\n",
    "search_tool = TavilySearchResults(max_results=5)"
   ]
  },
  {
   "cell_type": "code",
   "execution_count": null,
   "metadata": {},
   "outputs": [
    {
     "data": {
      "text/plain": [
       "<langgraph.graph.state.StateGraph at 0x188f4a88c20>"
      ]
     },
     "execution_count": 17,
     "metadata": {},
     "output_type": "execute_result"
    }
   ],
   "source": [
    "##\n",
    "\n",
    "\n",
    "tools = [search_tool]\n",
    "\n",
    "tool_node = ToolNode(tools)\n",
    "\n",
    "graph.add_node('tools', tool_node)"
   ]
  },
  {
   "cell_type": "code",
   "execution_count": 18,
   "metadata": {},
   "outputs": [
    {
     "data": {
      "text/plain": [
       "<langgraph.graph.state.StateGraph at 0x188f4a88c20>"
      ]
     },
     "execution_count": 18,
     "metadata": {},
     "output_type": "execute_result"
    }
   ],
   "source": [
    "# This means that the first node is the agent\n",
    "# similar to setting graph.set_entry_point('agent')\n",
    "graph.add_edge(START, \"agent\")"
   ]
  },
  {
   "cell_type": "code",
   "execution_count": null,
   "metadata": {},
   "outputs": [
    {
     "data": {
      "text/plain": [
       "<langgraph.graph.state.StateGraph at 0x188f4a88c20>"
      ]
     },
     "execution_count": 19,
     "metadata": {},
     "output_type": "execute_result"
    }
   ],
   "source": [
    "## Adding conditional edge\n",
    "graph.add_conditional_edges('agent', should_continue)"
   ]
  },
  {
   "cell_type": "code",
   "execution_count": null,
   "metadata": {},
   "outputs": [],
   "source": [
    "## Adding Standard Edge\n",
    "\n",
    "graph.add_edge('tools', 'agent')"
   ]
  },
  {
   "cell_type": "code",
   "execution_count": null,
   "metadata": {},
   "outputs": [],
   "source": [
    "## Compliling the graph\n",
    "graph_compiled = graph.compile()"
   ]
  },
  {
   "cell_type": "code",
   "execution_count": 22,
   "metadata": {},
   "outputs": [
    {
     "data": {
      "image/png": "[encoded data removed]",
      "text/plain": [
       "<IPython.core.display.Image object>"
      ]
     },
     "execution_count": 22,
     "metadata": {},
     "output_type": "execute_result"
    }
   ],
   "source": [
    "Image(graph_compiled.get_graph().draw_mermaid_png())"
   ]
  },
  {
   "cell_type": "code",
   "execution_count": 23,
   "metadata": {},
   "outputs": [
    {
     "data": {
      "text/plain": [
       "{'messages': [HumanMessage(content='Write a simple report on how to become pro at trading crypto.', additional_kwargs={}, response_metadata={}, id='24cfb02f-6123-4de3-b713-ff1d0342ff26'),\n",
       "  AIMessage(content='# Report: How to Become Pro at Trading Crypto\\n\\n## Introduction\\nCryptocurrency trading has gained immense popularity over the past decade, attracting both novice and experienced investors. While the potential for high returns is appealing, the volatility and complexity of the crypto market require a strategic approach. This report outlines key steps to becoming a proficient cryptocurrency trader.\\n\\n## 1. Understand the Basics of Cryptocurrency\\nBefore diving into trading, it is essential to grasp the fundamental concepts of cryptocurrency:\\n- **What is Cryptocurrency?**: Digital or virtual currencies that use cryptography for security.\\n- **Blockchain Technology**: The underlying technology that powers cryptocurrencies, ensuring transparency and security.\\n- **Types of Cryptocurrencies**: Familiarize yourself with major cryptocurrencies like Bitcoin (BTC), Ethereum (ETH), and altcoins.\\n\\n## 2. Educate Yourself\\nContinuous education is crucial in the fast-evolving crypto landscape:\\n- **Online Courses**: Enroll in courses that cover trading strategies, technical analysis, and market psychology.\\n- **Books and Articles**: Read literature on trading strategies, market trends, and successful traders’ experiences.\\n- **Webinars and Podcasts**: Participate in discussions and listen to experts share insights on market movements.\\n\\n## 3. Choose a Reliable Exchange\\nSelecting a trustworthy cryptocurrency exchange is vital for secure trading:\\n- **Reputation**: Research exchanges with a solid track record and positive user reviews.\\n- **Security Features**: Look for exchanges that offer two-factor authentication (2FA) and cold storage for funds.\\n- **Fees and Trading Pairs**: Compare transaction fees and available trading pairs to find the best fit for your trading strategy.\\n\\n## 4. Develop a Trading Strategy\\nA well-defined trading strategy is essential for success:\\n- **Day Trading vs. HODLing**: Decide whether you want to engage in short-term trading or long-term holding.\\n- **Technical Analysis**: Learn to read charts, identify trends, and use indicators to make informed decisions.\\n- **Risk Management**: Set stop-loss orders and determine the amount of capital to risk on each trade.\\n\\n## 5. Stay Informed\\nThe crypto market is influenced by various factors, including news, regulations, and market sentiment:\\n- **Follow News Outlets**: Stay updated with reputable crypto news websites and social media channels.\\n- **Join Communities**: Engage with online forums and social media groups to share insights and learn from others.\\n- **Market Analysis**: Regularly analyze market trends and adjust your strategy accordingly.\\n\\n## 6. Practice with a Demo Account\\nBefore trading with real money, practice your skills:\\n- **Demo Trading**: Use demo accounts offered by exchanges to simulate trading without financial risk.\\n- **Backtesting**: Test your trading strategies on historical data to evaluate their effectiveness.\\n\\n## 7. Start Small and Scale Up\\nWhen you begin trading with real money, start with a small investment:\\n- **Gradual Increase**: As you gain confidence and experience, gradually increase your investment.\\n- **Diversification**: Spread your investments across different cryptocurrencies to mitigate risk.\\n\\n## 8. Keep Emotions in Check\\nEmotional trading can lead to poor decision-making:\\n- **Discipline**: Stick to your trading plan and avoid impulsive decisions based on fear or greed.\\n- **Mindfulness**: Practice mindfulness techniques to maintain focus and reduce stress.\\n\\n## Conclusion\\nBecoming a professional cryptocurrency trader requires dedication, education, and a strategic approach. By understanding the fundamentals, developing a solid trading strategy, and staying informed, you can navigate the complexities of the crypto market and increase your chances of success. Remember, trading involves risks, and it is essential to trade responsibly.', additional_kwargs={'refusal': None}, response_metadata={'token_usage': {'completion_tokens': 743, 'prompt_tokens': 20, 'total_tokens': 763, 'completion_tokens_details': {'accepted_prediction_tokens': 0, 'audio_tokens': 0, 'reasoning_tokens': 0, 'rejected_prediction_tokens': 0}, 'prompt_tokens_details': {'audio_tokens': 0, 'cached_tokens': 0}}, 'model_name': 'gpt-4o-mini-2024-07-18', 'system_fingerprint': 'fp_34a54ae93c', 'id': 'chatcmpl-C4ItoJxWbipV3DiT4lxnGSQDO8w0Z', 'service_tier': 'default', 'finish_reason': 'stop', 'logprobs': None}, id='run--e4274108-c8d0-4797-b284-772dedaa5687-0', usage_metadata={'input_tokens': 20, 'output_tokens': 743, 'total_tokens': 763, 'input_token_details': {'audio': 0, 'cache_read': 0}, 'output_token_details': {'audio': 0, 'reasoning': 0}})]}"
      ]
     },
     "execution_count": 23,
     "metadata": {},
     "output_type": "execute_result"
    }
   ],
   "source": [
    "output = graph_compiled.invoke({'messages': [\n",
    "    ('user', 'Write a simple report on how to become pro at trading crypto.')\n",
    "]})\n",
    "\n",
    "output"
   ]
  },
  {
   "cell_type": "code",
   "execution_count": 24,
   "metadata": {},
   "outputs": [
    {
     "data": {
      "text/markdown": [
       "# Report: How to Become Pro at Trading Crypto\n",
       "\n",
       "## Introduction\n",
       "Cryptocurrency trading has gained immense popularity over the past decade, attracting both novice and experienced investors. While the potential for high returns is appealing, the volatility and complexity of the crypto market require a strategic approach. This report outlines key steps to becoming a proficient cryptocurrency trader.\n",
       "\n",
       "## 1. Understand the Basics of Cryptocurrency\n",
       "Before diving into trading, it is essential to grasp the fundamental concepts of cryptocurrency:\n",
       "- **What is Cryptocurrency?**: Digital or virtual currencies that use cryptography for security.\n",
       "- **Blockchain Technology**: The underlying technology that powers cryptocurrencies, ensuring transparency and security.\n",
       "- **Types of Cryptocurrencies**: Familiarize yourself with major cryptocurrencies like Bitcoin (BTC), Ethereum (ETH), and altcoins.\n",
       "\n",
       "## 2. Educate Yourself\n",
       "Continuous education is crucial in the fast-evolving crypto landscape:\n",
       "- **Online Courses**: Enroll in courses that cover trading strategies, technical analysis, and market psychology.\n",
       "- **Books and Articles**: Read literature on trading strategies, market trends, and successful traders’ experiences.\n",
       "- **Webinars and Podcasts**: Participate in discussions and listen to experts share insights on market movements.\n",
       "\n",
       "## 3. Choose a Reliable Exchange\n",
       "Selecting a trustworthy cryptocurrency exchange is vital for secure trading:\n",
       "- **Reputation**: Research exchanges with a solid track record and positive user reviews.\n",
       "- **Security Features**: Look for exchanges that offer two-factor authentication (2FA) and cold storage for funds.\n",
       "- **Fees and Trading Pairs**: Compare transaction fees and available trading pairs to find the best fit for your trading strategy.\n",
       "\n",
       "## 4. Develop a Trading Strategy\n",
       "A well-defined trading strategy is essential for success:\n",
       "- **Day Trading vs. HODLing**: Decide whether you want to engage in short-term trading or long-term holding.\n",
       "- **Technical Analysis**: Learn to read charts, identify trends, and use indicators to make informed decisions.\n",
       "- **Risk Management**: Set stop-loss orders and determine the amount of capital to risk on each trade.\n",
       "\n",
       "## 5. Stay Informed\n",
       "The crypto market is influenced by various factors, including news, regulations, and market sentiment:\n",
       "- **Follow News Outlets**: Stay updated with reputable crypto news websites and social media channels.\n",
       "- **Join Communities**: Engage with online forums and social media groups to share insights and learn from others.\n",
       "- **Market Analysis**: Regularly analyze market trends and adjust your strategy accordingly.\n",
       "\n",
       "## 6. Practice with a Demo Account\n",
       "Before trading with real money, practice your skills:\n",
       "- **Demo Trading**: Use demo accounts offered by exchanges to simulate trading without financial risk.\n",
       "- **Backtesting**: Test your trading strategies on historical data to evaluate their effectiveness.\n",
       "\n",
       "## 7. Start Small and Scale Up\n",
       "When you begin trading with real money, start with a small investment:\n",
       "- **Gradual Increase**: As you gain confidence and experience, gradually increase your investment.\n",
       "- **Diversification**: Spread your investments across different cryptocurrencies to mitigate risk.\n",
       "\n",
       "## 8. Keep Emotions in Check\n",
       "Emotional trading can lead to poor decision-making:\n",
       "- **Discipline**: Stick to your trading plan and avoid impulsive decisions based on fear or greed.\n",
       "- **Mindfulness**: Practice mindfulness techniques to maintain focus and reduce stress.\n",
       "\n",
       "## Conclusion\n",
       "Becoming a professional cryptocurrency trader requires dedication, education, and a strategic approach. By understanding the fundamentals, developing a solid trading strategy, and staying informed, you can navigate the complexities of the crypto market and increase your chances of success. Remember, trading involves risks, and it is essential to trade responsibly."
      ],
      "text/plain": [
       "<IPython.core.display.Markdown object>"
      ]
     },
     "execution_count": 24,
     "metadata": {},
     "output_type": "execute_result"
    }
   ],
   "source": [
    "from IPython.display import Markdown\n",
    "\n",
    "Markdown(output['messages'][-1].content)"
   ]
  },
  {
   "cell_type": "code",
   "execution_count": null,
   "metadata": {},
   "outputs": [],
   "source": []
  }
 ],
 "metadata": {
  "kernelspec": {
   "display_name": "Python 3 (ipykernel)",
   "language": "python",
   "name": "python3"
  },
  "language_info": {
   "codemirror_mode": {
    "name": "ipython",
    "version": 3
   },
   "file_extension": ".py",
   "mimetype": "text/x-python",
   "name": "python",
   "nbconvert_exporter": "python",
   "pygments_lexer": "ipython3",
   "version": "3.13.5"
  }
 },
 "nbformat": 4,
 "nbformat_minor": 4
}
